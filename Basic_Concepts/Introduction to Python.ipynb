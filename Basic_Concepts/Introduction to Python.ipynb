{
 "cells": [
  {
   "cell_type": "markdown",
   "id": "316c01ce",
   "metadata": {},
   "source": [
    "-----\n",
    "# Python Introduction\n",
    "-----"
   ]
  },
  {
   "cell_type": "markdown",
   "id": "c903105c",
   "metadata": {},
   "source": [
    "#### What is Python ?\n",
    "\n",
    "Ans. Python is a general purpose, high level, object oriented, interpreted and easy to learn language. It was created by Sir Guido van Rossum, and released in 1991. There are various version available for different platforms. Python is a widely used high level programming language. It is mostly used in field of Data Science, Machine Learning, Artificial Intelligence, Web Development, etc. Python is easy to learn and has a rich set of libraries available for use. We will be using Python 3.10.5 version, Jupyter notebook & Visual Studio Code in this Series of <b>Python for Data Science</b>."
   ]
  },
  {
   "cell_type": "markdown",
   "id": "126d4c2a",
   "metadata": {},
   "source": [
    "### First Program : Hello World From Python"
   ]
  },
  {
   "cell_type": "code",
   "execution_count": 1,
   "id": "cecf6bf1",
   "metadata": {},
   "outputs": [
    {
     "name": "stdout",
     "output_type": "stream",
     "text": [
      "Hello, World from Python!!!\n"
     ]
    }
   ],
   "source": [
    "print(\"Hello, World from Python!!!\")"
   ]
  },
  {
   "cell_type": "markdown",
   "id": "745817f1",
   "metadata": {},
   "source": [
    "The above code uses print function, print function is used to print the message on the screen. It takes 'n' number of arguments and prints them on the screen. The first argument is the message to be printed, and the remaining arguments are optional. We can use different types of data to print them on the screen. "
   ]
  },
  {
   "cell_type": "code",
   "execution_count": 3,
   "id": "f7c622c9",
   "metadata": {},
   "outputs": [
    {
     "name": "stdout",
     "output_type": "stream",
     "text": [
      "Hello, World from Python!!!\n",
      "The Sum of  2  and  3  is  5\n"
     ]
    }
   ],
   "source": [
    "# Example : Printing String and Integer \n",
    "print(\"Hello, World from Python!!!\\nThe Sum of \", 2, \" and \", 3, \" is \", 2 + 3)"
   ]
  },
  {
   "cell_type": "markdown",
   "id": "9822590e",
   "metadata": {},
   "source": [
    "### Functions:\n",
    "Functions are reffered to as some sort of action which a programmer or developer perform while writing the code. Function in very simple terms, can be described as <i> A Machine which take something as input and produces some output as result.</i> Now that we have understood the concept of functions, let us understand the concept of argument. Arguments are the input to the function. In the hello world program, we have passed a string \"Hello, World from Python!!!\" as an argument to the print function. Functions are very useful in programming, they are the example of code reusablity. because we can reuse the same code for different purposes.\n",
    "\n",
    "Functions can be categorized into two types:\n",
    "1. Built-in Functions\n",
    "2. User Defined Functions\n",
    "\n",
    "<b>Built-in Functions</b>: The function is defined in the Python language itself. These functions are available in the Python language and can be used without importing any module. The most used built-in functions available in Python.\n",
    "print(), max(), sum(), sorted(), min(), avg(), count(), len(), etc.\n",
    "\n",
    "<b>User Defined Functions</b>: The function is defined by the programmer. These functions are defined in the Python code and can be used without importing any module. User defined functions are created to solve the requirement of the end user in order to get the desired output."
   ]
  },
  {
   "cell_type": "code",
   "execution_count": 7,
   "id": "aea26273",
   "metadata": {},
   "outputs": [
    {
     "name": "stdout",
     "output_type": "stream",
     "text": [
      "27\n",
      "The Sum of first 10 natural numbers:  55\n",
      "Max number from a list of first 10 natural numbers:  10\n"
     ]
    }
   ],
   "source": [
    "# Example: Using some built-in functions\n",
    "print(len(\"Hello, World from Python!!!\"))\n",
    "print(\"The Sum of first 10 natural numbers: \",sum(range(1,11))) # range is a built-in function, it is used to generate a list of numbers excluding the last number\n",
    "# and sum fucntion is used to sum all the numbers in an iterable.\n",
    "print(\"Max number from a list of first 10 natural numbers: \",max(range(1,11))) # Max function is used to find the maximum number in an iterable."
   ]
  },
  {
   "cell_type": "code",
   "execution_count": 8,
   "id": "33c183d2",
   "metadata": {},
   "outputs": [
    {
     "ename": "TypeError",
     "evalue": "can only concatenate str (not \"int\") to str",
     "output_type": "error",
     "traceback": [
      "\u001b[1;31m---------------------------------------------------------------------------\u001b[0m",
      "\u001b[1;31mTypeError\u001b[0m                                 Traceback (most recent call last)",
      "\u001b[1;32mg:\\DataScience\\Github\\Python_Programming\\Basic_Concepts\\Introduction to Python.ipynb Cell 9\u001b[0m in \u001b[0;36m<cell line: 1>\u001b[1;34m()\u001b[0m\n\u001b[1;32m----> <a href='vscode-notebook-cell:/g%3A/DataScience/Github/Python_Programming/Basic_Concepts/Introduction%20to%20Python.ipynb#X15sZmlsZQ%3D%3D?line=0'>1</a>\u001b[0m \u001b[39mprint\u001b[39m(\u001b[39m\"\u001b[39;49m\u001b[39mSahil is \u001b[39;49m\u001b[39m\"\u001b[39;49m \u001b[39m+\u001b[39;49m \u001b[39m21\u001b[39;49m \u001b[39m+\u001b[39m \u001b[39m\"\u001b[39m\u001b[39myear old\u001b[39m\u001b[39m\"\u001b[39m)\n",
      "\u001b[1;31mTypeError\u001b[0m: can only concatenate str (not \"int\") to str"
     ]
    }
   ],
   "source": [
    "print(\"Sahil is \" + 21 + \"year old\") # This is not a valid syntax, and hence program will throw an error."
   ]
  },
  {
   "cell_type": "markdown",
   "id": "648ac4b5",
   "metadata": {},
   "source": [
    "### <i>What is a bug ?</i>\n",
    "The above program thows an error because we are trying to do something which the interpreter does not know. The interpreter does not know what to do with the print function, and hence it throws an error. Now these errors are mistakes which the programmer make throughout his/her lifetime(one of the painful things in programmer's life). These mistakes reffered to as something known as <b>Bugs</b>.<br>\n",
    "    <li> <b>NOTE:</b> We can fix these bugs by using the <b>debugger</b> which is a tool which helps us to debug the program, we can also use the concept of exception handling to handle the bugs in our code which may occur unexpectedly in the code execution, in the later section."
   ]
  },
  {
   "cell_type": "markdown",
   "id": "b39dd9cd",
   "metadata": {},
   "source": [
    "### The input() function, Variable and return type."
   ]
  },
  {
   "cell_type": "markdown",
   "id": "01e07be5",
   "metadata": {},
   "source": [
    "Let's say you want to ask the user for their name and print the same.\n",
    "<br>input(\"What is your name? \") # if we use input function without assigning it to a variable, then we will not be able to use it later in the program.\n",
    "<br>therefore, we need to assign it to a variable.\n",
    "\n",
    "##### What is Variable:\n",
    "Variable is a container which stores the value of the data, either exiplictly declared or provided by the user. In python we just used variable name along with the assignment operator to assign the value to the variable.\n",
    "<br><br>\n",
    "Syntax: <b>variable_name = value</b>"
   ]
  },
  {
   "cell_type": "code",
   "execution_count": 2,
   "id": "429ea7f6",
   "metadata": {},
   "outputs": [
    {
     "name": "stdout",
     "output_type": "stream",
     "text": [
      "Hello, Sahil. It is nice to meet you!\n"
     ]
    }
   ],
   "source": [
    "# Example: Variable Assignment\n",
    "name = input(\"What is your name? \")\n",
    "print(\"Hello, \" + name + \". It is nice to meet you!\")"
   ]
  }
 ],
 "metadata": {
  "kernelspec": {
   "display_name": "Python 3.10.5 64-bit",
   "language": "python",
   "name": "python3"
  },
  "language_info": {
   "codemirror_mode": {
    "name": "ipython",
    "version": 3
   },
   "file_extension": ".py",
   "mimetype": "text/x-python",
   "name": "python",
   "nbconvert_exporter": "python",
   "pygments_lexer": "ipython3",
   "version": "3.10.5"
  },
  "vscode": {
   "interpreter": {
    "hash": "67f1a58412a5992903d8a569a5baa1f1514123756be715fd660b0e3603a8940d"
   }
  }
 },
 "nbformat": 4,
 "nbformat_minor": 5
}
