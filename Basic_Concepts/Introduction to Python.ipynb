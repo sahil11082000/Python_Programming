{
 "cells": [
  {
   "cell_type": "markdown",
   "id": "316c01ce",
   "metadata": {},
   "source": [
    "-----\n",
    "# Python Introduction\n",
    "-----"
   ]
  },
  {
   "cell_type": "markdown",
   "id": "c903105c",
   "metadata": {},
   "source": [
    "#### What is Python ?\n",
    "\n",
    "Ans. Python is a general purpose, high level, object oriented, interpreted and easy to learn language. It was created by Sir Guido van Rossum, and released in 1991. There are various version available for different platforms. Python is a widely used high level programming language. It is mostly used in field of Data Science, Machine Learning, Artificial Intelligence, Web Development, etc. Python is easy to learn and has a rich set of libraries available for use. We will be using Python 3.10.5 version, Jupyter notebook & Visual Studio Code in this Series of <b>Python for Data Science</b>."
   ]
  },
  {
   "cell_type": "markdown",
   "id": "126d4c2a",
   "metadata": {},
   "source": [
    "### First Program : Hello World From Python"
   ]
  },
  {
   "cell_type": "code",
   "execution_count": 1,
   "id": "cecf6bf1",
   "metadata": {},
   "outputs": [
    {
     "name": "stdout",
     "output_type": "stream",
     "text": [
      "Hello, World from Python!!!\n"
     ]
    }
   ],
   "source": [
    "print(\"Hello, World from Python!!!\")"
   ]
  },
  {
   "cell_type": "markdown",
   "id": "745817f1",
   "metadata": {},
   "source": [
    "The above code uses print function, print function is used to print the message on the screen. It takes 'n' number of arguments and prints them on the screen. The first argument is the message to be printed, and the remaining arguments are optional. We can use different types of data to print them on the screen. "
   ]
  },
  {
   "cell_type": "code",
   "execution_count": 3,
   "id": "f7c622c9",
   "metadata": {},
   "outputs": [
    {
     "name": "stdout",
     "output_type": "stream",
     "text": [
      "Hello, World from Python!!!\n",
      "The Sum of  2  and  3  is  5\n"
     ]
    }
   ],
   "source": [
    "# Example : Printing String and Integer \n",
    "print(\"Hello, World from Python!!!\\nThe Sum of \", 2, \" and \", 3, \" is \", 2 + 3)"
   ]
  },
  {
   "cell_type": "markdown",
   "id": "9822590e",
   "metadata": {},
   "source": [
    "### Functions:\n",
    "Functions are reffered to as some sort of action which a programmer or developer perform while writing the code. Function in very simple terms, can be described as <i> A Machine which take something as input and produces some output as result.</i> Now that we have understood the concept of functions, let us understand the concept of argument. Arguments are the input to the function. In the hello world program, we have passed a string \"Hello, World from Python!!!\" as an argument to the print function. Functions are very useful in programming, they are the example of code reusablity. because we can reuse the same code for different purposes.\n",
    "\n",
    "Now functions can be categorized into two types:\n",
    "1. Built-in Functions\n",
    "2. User Defined Functions\n",
    "\n",
    "<b>Built-in Functions</b>: The function is defined in the Python language itself. These functions are available in the Python language and can be used without importing any module. The most used built-in functions available in Python.\n",
    "print(), max(), sum(), sorted(), min(), avg(), count(), len(), etc.\n",
    "\n",
    "<b>User Defined Functions</b>: The function is defined by the programmer. These functions are defined in the Python code and can be used without importing any module. User defined functions are created to solve the requirement of the end user in order to get the desired output."
   ]
  },
  {
   "cell_type": "code",
   "execution_count": 7,
   "id": "aea26273",
   "metadata": {},
   "outputs": [
    {
     "name": "stdout",
     "output_type": "stream",
     "text": [
      "27\n",
      "The Sum of first 10 natural numbers:  55\n",
      "Max number from a list of first 10 natural numbers:  10\n"
     ]
    }
   ],
   "source": [
    "# Example: Using some built-in functions\n",
    "print(len(\"Hello, World from Python!!!\"))\n",
    "print(\"The Sum of first 10 natural numbers: \",sum(range(1,11))) # range is a built-in function, it is used to generate a list of numbers excluding the last number\n",
    "# and sum fucntion is used to sum all the numbers in an iterable.\n",
    "print(\"Max number from a list of first 10 natural numbers: \",max(range(1,11))) # Max function is used to find the maximum number in an iterable."
   ]
  }
 ],
 "metadata": {
  "kernelspec": {
   "display_name": "Python 3.10.5 64-bit",
   "language": "python",
   "name": "python3"
  },
  "language_info": {
   "codemirror_mode": {
    "name": "ipython",
    "version": 3
   },
   "file_extension": ".py",
   "mimetype": "text/x-python",
   "name": "python",
   "nbconvert_exporter": "python",
   "pygments_lexer": "ipython3",
   "version": "3.10.5"
  },
  "vscode": {
   "interpreter": {
    "hash": "67f1a58412a5992903d8a569a5baa1f1514123756be715fd660b0e3603a8940d"
   }
  }
 },
 "nbformat": 4,
 "nbformat_minor": 5
}
