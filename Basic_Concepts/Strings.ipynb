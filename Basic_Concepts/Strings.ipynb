{
 "cells": [
  {
   "cell_type": "markdown",
   "metadata": {},
   "source": [
    "-----\n",
    "# Tutorial 2 : Python Strings\n",
    "-----"
   ]
  },
  {
   "cell_type": "markdown",
   "metadata": {},
   "source": [
    "## Contents\n",
    "1. What are Strings in Python?\n",
    "2. String Operations\n",
    "3. String Methods\n",
    "4. String Formatting\n",
    "5. String Indexing\n",
    "6. String Slicing\n",
    "-----"
   ]
  }
 ],
 "metadata": {
  "language_info": {
   "name": "python"
  },
  "orig_nbformat": 4
 },
 "nbformat": 4,
 "nbformat_minor": 2
}
